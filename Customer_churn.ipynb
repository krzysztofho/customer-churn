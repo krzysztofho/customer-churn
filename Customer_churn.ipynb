{
  "nbformat": 4,
  "nbformat_minor": 0,
  "metadata": {
    "colab": {
      "provenance": [],
      "authorship_tag": "ABX9TyP039KFwfAOJlNd3gKHeg3T",
      "include_colab_link": true
    },
    "kernelspec": {
      "name": "python3",
      "display_name": "Python 3"
    },
    "language_info": {
      "name": "python"
    }
  },
  "cells": [
    {
      "cell_type": "markdown",
      "metadata": {
        "id": "view-in-github",
        "colab_type": "text"
      },
      "source": [
        "<a href=\"https://colab.research.google.com/github/krzysztofho/customer-churn/blob/master/Customer_churn.ipynb\" target=\"_parent\"><img src=\"https://colab.research.google.com/assets/colab-badge.svg\" alt=\"Open In Colab\"/></a>"
      ]
    },
    {
      "cell_type": "markdown",
      "source": [
        "#Imports"
      ],
      "metadata": {
        "id": "zQYuAcloHvGv"
      }
    },
    {
      "cell_type": "code",
      "source": [
        "!pip install mlflow\n",
        "!pip install catboost\n",
        "!pip install xgboost"
      ],
      "metadata": {
        "colab": {
          "base_uri": "https://localhost:8080/"
        },
        "id": "m0KezzoVH4-A",
        "outputId": "f5772b42-0374-4b7e-d2a4-d4be3d709c74"
      },
      "execution_count": 3,
      "outputs": [
        {
          "output_type": "stream",
          "name": "stdout",
          "text": [
            "Requirement already satisfied: mlflow in /usr/local/lib/python3.10/dist-packages (2.10.2)\n",
            "Requirement already satisfied: click<9,>=7.0 in /usr/local/lib/python3.10/dist-packages (from mlflow) (8.1.7)\n",
            "Requirement already satisfied: cloudpickle<4 in /usr/local/lib/python3.10/dist-packages (from mlflow) (2.2.1)\n",
            "Requirement already satisfied: entrypoints<1 in /usr/local/lib/python3.10/dist-packages (from mlflow) (0.4)\n",
            "Requirement already satisfied: gitpython<4,>=2.1.0 in /usr/local/lib/python3.10/dist-packages (from mlflow) (3.1.42)\n",
            "Requirement already satisfied: pyyaml<7,>=5.1 in /usr/local/lib/python3.10/dist-packages (from mlflow) (6.0.1)\n",
            "Requirement already satisfied: protobuf<5,>=3.12.0 in /usr/local/lib/python3.10/dist-packages (from mlflow) (3.20.3)\n",
            "Requirement already satisfied: pytz<2024 in /usr/local/lib/python3.10/dist-packages (from mlflow) (2023.4)\n",
            "Requirement already satisfied: requests<3,>=2.17.3 in /usr/local/lib/python3.10/dist-packages (from mlflow) (2.31.0)\n",
            "Requirement already satisfied: packaging<24 in /usr/local/lib/python3.10/dist-packages (from mlflow) (23.2)\n",
            "Requirement already satisfied: importlib-metadata!=4.7.0,<8,>=3.7.0 in /usr/local/lib/python3.10/dist-packages (from mlflow) (7.0.1)\n",
            "Requirement already satisfied: sqlparse<1,>=0.4.0 in /usr/local/lib/python3.10/dist-packages (from mlflow) (0.4.4)\n",
            "Requirement already satisfied: alembic!=1.10.0,<2 in /usr/local/lib/python3.10/dist-packages (from mlflow) (1.13.1)\n",
            "Requirement already satisfied: docker<8,>=4.0.0 in /usr/local/lib/python3.10/dist-packages (from mlflow) (7.0.0)\n",
            "Requirement already satisfied: Flask<4 in /usr/local/lib/python3.10/dist-packages (from mlflow) (2.2.5)\n",
            "Requirement already satisfied: numpy<2 in /usr/local/lib/python3.10/dist-packages (from mlflow) (1.25.2)\n",
            "Requirement already satisfied: scipy<2 in /usr/local/lib/python3.10/dist-packages (from mlflow) (1.11.4)\n",
            "Requirement already satisfied: pandas<3 in /usr/local/lib/python3.10/dist-packages (from mlflow) (1.5.3)\n",
            "Requirement already satisfied: querystring-parser<2 in /usr/local/lib/python3.10/dist-packages (from mlflow) (1.2.4)\n",
            "Requirement already satisfied: sqlalchemy<3,>=1.4.0 in /usr/local/lib/python3.10/dist-packages (from mlflow) (2.0.27)\n",
            "Requirement already satisfied: scikit-learn<2 in /usr/local/lib/python3.10/dist-packages (from mlflow) (1.2.2)\n",
            "Requirement already satisfied: pyarrow<16,>=4.0.0 in /usr/local/lib/python3.10/dist-packages (from mlflow) (14.0.2)\n",
            "Requirement already satisfied: markdown<4,>=3.3 in /usr/local/lib/python3.10/dist-packages (from mlflow) (3.5.2)\n",
            "Requirement already satisfied: matplotlib<4 in /usr/local/lib/python3.10/dist-packages (from mlflow) (3.7.1)\n",
            "Requirement already satisfied: gunicorn<22 in /usr/local/lib/python3.10/dist-packages (from mlflow) (21.2.0)\n",
            "Requirement already satisfied: Jinja2<4,>=2.11 in /usr/local/lib/python3.10/dist-packages (from mlflow) (3.1.3)\n",
            "Requirement already satisfied: Mako in /usr/local/lib/python3.10/dist-packages (from alembic!=1.10.0,<2->mlflow) (1.3.2)\n",
            "Requirement already satisfied: typing-extensions>=4 in /usr/local/lib/python3.10/dist-packages (from alembic!=1.10.0,<2->mlflow) (4.9.0)\n",
            "Requirement already satisfied: urllib3>=1.26.0 in /usr/local/lib/python3.10/dist-packages (from docker<8,>=4.0.0->mlflow) (2.0.7)\n",
            "Requirement already satisfied: Werkzeug>=2.2.2 in /usr/local/lib/python3.10/dist-packages (from Flask<4->mlflow) (3.0.1)\n",
            "Requirement already satisfied: itsdangerous>=2.0 in /usr/local/lib/python3.10/dist-packages (from Flask<4->mlflow) (2.1.2)\n",
            "Requirement already satisfied: gitdb<5,>=4.0.1 in /usr/local/lib/python3.10/dist-packages (from gitpython<4,>=2.1.0->mlflow) (4.0.11)\n",
            "Requirement already satisfied: zipp>=0.5 in /usr/local/lib/python3.10/dist-packages (from importlib-metadata!=4.7.0,<8,>=3.7.0->mlflow) (3.17.0)\n",
            "Requirement already satisfied: MarkupSafe>=2.0 in /usr/local/lib/python3.10/dist-packages (from Jinja2<4,>=2.11->mlflow) (2.1.5)\n",
            "Requirement already satisfied: contourpy>=1.0.1 in /usr/local/lib/python3.10/dist-packages (from matplotlib<4->mlflow) (1.2.0)\n",
            "Requirement already satisfied: cycler>=0.10 in /usr/local/lib/python3.10/dist-packages (from matplotlib<4->mlflow) (0.12.1)\n",
            "Requirement already satisfied: fonttools>=4.22.0 in /usr/local/lib/python3.10/dist-packages (from matplotlib<4->mlflow) (4.49.0)\n",
            "Requirement already satisfied: kiwisolver>=1.0.1 in /usr/local/lib/python3.10/dist-packages (from matplotlib<4->mlflow) (1.4.5)\n",
            "Requirement already satisfied: pillow>=6.2.0 in /usr/local/lib/python3.10/dist-packages (from matplotlib<4->mlflow) (9.4.0)\n",
            "Requirement already satisfied: pyparsing>=2.3.1 in /usr/local/lib/python3.10/dist-packages (from matplotlib<4->mlflow) (3.1.1)\n",
            "Requirement already satisfied: python-dateutil>=2.7 in /usr/local/lib/python3.10/dist-packages (from matplotlib<4->mlflow) (2.8.2)\n",
            "Requirement already satisfied: six in /usr/local/lib/python3.10/dist-packages (from querystring-parser<2->mlflow) (1.16.0)\n",
            "Requirement already satisfied: charset-normalizer<4,>=2 in /usr/local/lib/python3.10/dist-packages (from requests<3,>=2.17.3->mlflow) (3.3.2)\n",
            "Requirement already satisfied: idna<4,>=2.5 in /usr/local/lib/python3.10/dist-packages (from requests<3,>=2.17.3->mlflow) (3.6)\n",
            "Requirement already satisfied: certifi>=2017.4.17 in /usr/local/lib/python3.10/dist-packages (from requests<3,>=2.17.3->mlflow) (2024.2.2)\n",
            "Requirement already satisfied: joblib>=1.1.1 in /usr/local/lib/python3.10/dist-packages (from scikit-learn<2->mlflow) (1.3.2)\n",
            "Requirement already satisfied: threadpoolctl>=2.0.0 in /usr/local/lib/python3.10/dist-packages (from scikit-learn<2->mlflow) (3.3.0)\n",
            "Requirement already satisfied: greenlet!=0.4.17 in /usr/local/lib/python3.10/dist-packages (from sqlalchemy<3,>=1.4.0->mlflow) (3.0.3)\n",
            "Requirement already satisfied: smmap<6,>=3.0.1 in /usr/local/lib/python3.10/dist-packages (from gitdb<5,>=4.0.1->gitpython<4,>=2.1.0->mlflow) (5.0.1)\n",
            "Requirement already satisfied: catboost in /usr/local/lib/python3.10/dist-packages (1.2.3)\n",
            "Requirement already satisfied: graphviz in /usr/local/lib/python3.10/dist-packages (from catboost) (0.20.1)\n",
            "Requirement already satisfied: matplotlib in /usr/local/lib/python3.10/dist-packages (from catboost) (3.7.1)\n",
            "Requirement already satisfied: numpy>=1.16.0 in /usr/local/lib/python3.10/dist-packages (from catboost) (1.25.2)\n",
            "Requirement already satisfied: pandas>=0.24 in /usr/local/lib/python3.10/dist-packages (from catboost) (1.5.3)\n",
            "Requirement already satisfied: scipy in /usr/local/lib/python3.10/dist-packages (from catboost) (1.11.4)\n",
            "Requirement already satisfied: plotly in /usr/local/lib/python3.10/dist-packages (from catboost) (5.15.0)\n",
            "Requirement already satisfied: six in /usr/local/lib/python3.10/dist-packages (from catboost) (1.16.0)\n",
            "Requirement already satisfied: python-dateutil>=2.8.1 in /usr/local/lib/python3.10/dist-packages (from pandas>=0.24->catboost) (2.8.2)\n",
            "Requirement already satisfied: pytz>=2020.1 in /usr/local/lib/python3.10/dist-packages (from pandas>=0.24->catboost) (2023.4)\n",
            "Requirement already satisfied: contourpy>=1.0.1 in /usr/local/lib/python3.10/dist-packages (from matplotlib->catboost) (1.2.0)\n",
            "Requirement already satisfied: cycler>=0.10 in /usr/local/lib/python3.10/dist-packages (from matplotlib->catboost) (0.12.1)\n",
            "Requirement already satisfied: fonttools>=4.22.0 in /usr/local/lib/python3.10/dist-packages (from matplotlib->catboost) (4.49.0)\n",
            "Requirement already satisfied: kiwisolver>=1.0.1 in /usr/local/lib/python3.10/dist-packages (from matplotlib->catboost) (1.4.5)\n",
            "Requirement already satisfied: packaging>=20.0 in /usr/local/lib/python3.10/dist-packages (from matplotlib->catboost) (23.2)\n",
            "Requirement already satisfied: pillow>=6.2.0 in /usr/local/lib/python3.10/dist-packages (from matplotlib->catboost) (9.4.0)\n",
            "Requirement already satisfied: pyparsing>=2.3.1 in /usr/local/lib/python3.10/dist-packages (from matplotlib->catboost) (3.1.1)\n",
            "Requirement already satisfied: tenacity>=6.2.0 in /usr/local/lib/python3.10/dist-packages (from plotly->catboost) (8.2.3)\n",
            "Requirement already satisfied: xgboost in /usr/local/lib/python3.10/dist-packages (2.0.3)\n",
            "Requirement already satisfied: numpy in /usr/local/lib/python3.10/dist-packages (from xgboost) (1.25.2)\n",
            "Requirement already satisfied: scipy in /usr/local/lib/python3.10/dist-packages (from xgboost) (1.11.4)\n"
          ]
        }
      ]
    },
    {
      "cell_type": "code",
      "execution_count": 5,
      "metadata": {
        "id": "z8gLHLSVGocY"
      },
      "outputs": [],
      "source": [
        "import pandas as pd\n",
        "import mlflow\n",
        "import xgboost\n",
        "import catboost\n",
        "import google"
      ]
    },
    {
      "cell_type": "markdown",
      "source": [
        "# Google Drive Code"
      ],
      "metadata": {
        "id": "cJlHa_K2KCx8"
      }
    },
    {
      "cell_type": "code",
      "source": [
        "google.colab.drive.mount('/content/gdrive')"
      ],
      "metadata": {
        "colab": {
          "base_uri": "https://localhost:8080/"
        },
        "id": "IxXcjDPoKYlr",
        "outputId": "b50bf14b-a7e5-4cf3-f4a4-b6ccaadc7cc2"
      },
      "execution_count": 6,
      "outputs": [
        {
          "output_type": "stream",
          "name": "stdout",
          "text": [
            "Mounted at /content/gdrive\n"
          ]
        }
      ]
    },
    {
      "cell_type": "markdown",
      "source": [
        "#File reading"
      ],
      "metadata": {
        "id": "iRiGidaCLHER"
      }
    },
    {
      "cell_type": "code",
      "source": [
        "customer_churn = pd.read_csv('/content/gdrive/MyDrive/data/Telecom_customer churn.csv')"
      ],
      "metadata": {
        "id": "JAQ1WAMxLvYu"
      },
      "execution_count": 7,
      "outputs": []
    },
    {
      "cell_type": "markdown",
      "source": [
        "##Descriptive stats"
      ],
      "metadata": {
        "id": "tKRJgoScMCmh"
      }
    },
    {
      "cell_type": "code",
      "source": [
        "customer_churn.shape"
      ],
      "metadata": {
        "colab": {
          "base_uri": "https://localhost:8080/"
        },
        "id": "xJQpWkQ9MJ3H",
        "outputId": "20ef3932-742c-40c0-f822-f541f854b281"
      },
      "execution_count": 8,
      "outputs": [
        {
          "output_type": "execute_result",
          "data": {
            "text/plain": [
              "(100000, 100)"
            ]
          },
          "metadata": {},
          "execution_count": 8
        }
      ]
    },
    {
      "cell_type": "code",
      "source": [
        "customer_churn.info()"
      ],
      "metadata": {
        "colab": {
          "base_uri": "https://localhost:8080/"
        },
        "id": "atbOgmiYMMJI",
        "outputId": "9e0dfbcf-c44e-464d-bc20-2a67c6716072"
      },
      "execution_count": 9,
      "outputs": [
        {
          "output_type": "stream",
          "name": "stdout",
          "text": [
            "<class 'pandas.core.frame.DataFrame'>\n",
            "RangeIndex: 100000 entries, 0 to 99999\n",
            "Data columns (total 100 columns):\n",
            " #   Column            Non-Null Count   Dtype  \n",
            "---  ------            --------------   -----  \n",
            " 0   rev_Mean          99643 non-null   float64\n",
            " 1   mou_Mean          99643 non-null   float64\n",
            " 2   totmrc_Mean       99643 non-null   float64\n",
            " 3   da_Mean           99643 non-null   float64\n",
            " 4   ovrmou_Mean       99643 non-null   float64\n",
            " 5   ovrrev_Mean       99643 non-null   float64\n",
            " 6   vceovr_Mean       99643 non-null   float64\n",
            " 7   datovr_Mean       99643 non-null   float64\n",
            " 8   roam_Mean         99643 non-null   float64\n",
            " 9   change_mou        99109 non-null   float64\n",
            " 10  change_rev        99109 non-null   float64\n",
            " 11  drop_vce_Mean     100000 non-null  float64\n",
            " 12  drop_dat_Mean     100000 non-null  float64\n",
            " 13  blck_vce_Mean     100000 non-null  float64\n",
            " 14  blck_dat_Mean     100000 non-null  float64\n",
            " 15  unan_vce_Mean     100000 non-null  float64\n",
            " 16  unan_dat_Mean     100000 non-null  float64\n",
            " 17  plcd_vce_Mean     100000 non-null  float64\n",
            " 18  plcd_dat_Mean     100000 non-null  float64\n",
            " 19  recv_vce_Mean     100000 non-null  float64\n",
            " 20  recv_sms_Mean     100000 non-null  float64\n",
            " 21  comp_vce_Mean     100000 non-null  float64\n",
            " 22  comp_dat_Mean     100000 non-null  float64\n",
            " 23  custcare_Mean     100000 non-null  float64\n",
            " 24  ccrndmou_Mean     100000 non-null  float64\n",
            " 25  cc_mou_Mean       100000 non-null  float64\n",
            " 26  inonemin_Mean     100000 non-null  float64\n",
            " 27  threeway_Mean     100000 non-null  float64\n",
            " 28  mou_cvce_Mean     100000 non-null  float64\n",
            " 29  mou_cdat_Mean     100000 non-null  float64\n",
            " 30  mou_rvce_Mean     100000 non-null  float64\n",
            " 31  owylis_vce_Mean   100000 non-null  float64\n",
            " 32  mouowylisv_Mean   100000 non-null  float64\n",
            " 33  iwylis_vce_Mean   100000 non-null  float64\n",
            " 34  mouiwylisv_Mean   100000 non-null  float64\n",
            " 35  peak_vce_Mean     100000 non-null  float64\n",
            " 36  peak_dat_Mean     100000 non-null  float64\n",
            " 37  mou_peav_Mean     100000 non-null  float64\n",
            " 38  mou_pead_Mean     100000 non-null  float64\n",
            " 39  opk_vce_Mean      100000 non-null  float64\n",
            " 40  opk_dat_Mean      100000 non-null  float64\n",
            " 41  mou_opkv_Mean     100000 non-null  float64\n",
            " 42  mou_opkd_Mean     100000 non-null  float64\n",
            " 43  drop_blk_Mean     100000 non-null  float64\n",
            " 44  attempt_Mean      100000 non-null  float64\n",
            " 45  complete_Mean     100000 non-null  float64\n",
            " 46  callfwdv_Mean     100000 non-null  float64\n",
            " 47  callwait_Mean     100000 non-null  float64\n",
            " 48  churn             100000 non-null  int64  \n",
            " 49  months            100000 non-null  int64  \n",
            " 50  uniqsubs          100000 non-null  int64  \n",
            " 51  actvsubs          100000 non-null  int64  \n",
            " 52  new_cell          100000 non-null  object \n",
            " 53  crclscod          100000 non-null  object \n",
            " 54  asl_flag          100000 non-null  object \n",
            " 55  totcalls          100000 non-null  int64  \n",
            " 56  totmou            100000 non-null  float64\n",
            " 57  totrev            100000 non-null  float64\n",
            " 58  adjrev            100000 non-null  float64\n",
            " 59  adjmou            100000 non-null  float64\n",
            " 60  adjqty            100000 non-null  int64  \n",
            " 61  avgrev            100000 non-null  float64\n",
            " 62  avgmou            100000 non-null  float64\n",
            " 63  avgqty            100000 non-null  float64\n",
            " 64  avg3mou           100000 non-null  int64  \n",
            " 65  avg3qty           100000 non-null  int64  \n",
            " 66  avg3rev           100000 non-null  int64  \n",
            " 67  avg6mou           97161 non-null   float64\n",
            " 68  avg6qty           97161 non-null   float64\n",
            " 69  avg6rev           97161 non-null   float64\n",
            " 70  prizm_social_one  92612 non-null   object \n",
            " 71  area              99960 non-null   object \n",
            " 72  dualband          99999 non-null   object \n",
            " 73  refurb_new        99999 non-null   object \n",
            " 74  hnd_price         99153 non-null   float64\n",
            " 75  phones            99999 non-null   float64\n",
            " 76  models            99999 non-null   float64\n",
            " 77  hnd_webcap        89811 non-null   object \n",
            " 78  truck             98268 non-null   float64\n",
            " 79  rv                98268 non-null   float64\n",
            " 80  ownrent           66294 non-null   object \n",
            " 81  lor               69810 non-null   float64\n",
            " 82  dwlltype          68091 non-null   object \n",
            " 83  marital           98268 non-null   object \n",
            " 84  adults            76981 non-null   float64\n",
            " 85  infobase          77921 non-null   object \n",
            " 86  income            74564 non-null   float64\n",
            " 87  numbcars          50634 non-null   float64\n",
            " 88  HHstatin          62077 non-null   object \n",
            " 89  dwllsize          61692 non-null   object \n",
            " 90  forgntvl          98268 non-null   float64\n",
            " 91  ethnic            98268 non-null   object \n",
            " 92  kid0_2            98268 non-null   object \n",
            " 93  kid3_5            98268 non-null   object \n",
            " 94  kid6_10           98268 non-null   object \n",
            " 95  kid11_15          98268 non-null   object \n",
            " 96  kid16_17          98268 non-null   object \n",
            " 97  creditcd          98268 non-null   object \n",
            " 98  eqpdays           99999 non-null   float64\n",
            " 99  Customer_ID       100000 non-null  int64  \n",
            "dtypes: float64(69), int64(10), object(21)\n",
            "memory usage: 76.3+ MB\n"
          ]
        }
      ]
    },
    {
      "cell_type": "markdown",
      "source": [
        "#Data cleaning and feature engineering"
      ],
      "metadata": {
        "id": "O4NnDqmUMV3d"
      }
    },
    {
      "cell_type": "code",
      "source": [],
      "metadata": {
        "id": "s2IdSCFCMzvv"
      },
      "execution_count": null,
      "outputs": []
    },
    {
      "cell_type": "markdown",
      "source": [
        "MlFlow and models configuration"
      ],
      "metadata": {
        "id": "AF3l1hrbM4DJ"
      }
    }
  ]
}